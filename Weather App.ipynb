{
 "cells": [
  {
   "cell_type": "code",
   "execution_count": 10,
   "id": "f0d6372f-bc5d-434f-aa8d-da681cb573c3",
   "metadata": {
    "editable": true,
    "slideshow": {
     "slide_type": ""
    },
    "tags": []
   },
   "outputs": [
    {
     "ename": "SyntaxError",
     "evalue": "expected 'except' or 'finally' block (2006463099.py, line 19)",
     "output_type": "error",
     "traceback": [
      "\u001b[1;36m  Cell \u001b[1;32mIn[10], line 19\u001b[1;36m\u001b[0m\n\u001b[1;33m    print(\"Loading....\")\u001b[0m\n\u001b[1;37m    ^\u001b[0m\n\u001b[1;31mSyntaxError\u001b[0m\u001b[1;31m:\u001b[0m expected 'except' or 'finally' block\n"
     ]
    }
   ],
   "source": [
    "# Weather App \n",
    "\n",
    "#The bs4 Library ables to extract files from internet (HTML files or XML files)\n",
    "from bs4 import BeautifulSoup\n",
    "import requests\n",
    "\n",
    "#Now u should create a header details so customer and server can pass information with HTTP request or reponse \n",
    "headers = {\n",
    "    'User - Agent' : 'Mozilla/5.0 (Windows NT 10.0; Win64; x64) AppleWebKit/533.36 (KHTML, like Gecko) Chrome/131.0.6778.265 Safari/537.5'\n",
    "}\n",
    "\n",
    "#Create a function find_weather() who make a query to google using method requests.get()  \n",
    "def find_weather(city_name):\n",
    "    city_name = city_name.replace(\" \",\"+\")\n",
    "    try:\n",
    "#A method getText() extract the text from HTTP element.  \n",
    "        res = resquests.get(\n",
    "            f'https://www.google.com/search?q={city_name}&oq={city_name}&aqs=chrome.035i39l2j0l4j46j69i60.6128j1j7&sourceid=chrome&ie=UTF-8' , headers=headers)\n",
    "    print(\"Loading....\")\n",
    "    \n",
    "#Strip() method removes landing and trailing space from the text     \n",
    "    soup = BeautifulSoup(res.text, 'html.parser')\n",
    "    location = soup.select('#wob_loc')[0].getText().strip()\n",
    "    time = soup.select('#wob_dtc')[0].getText().strip()\n",
    "    info = soup.select('#wob_dc')[0].getText().strip()\n",
    "    temperature = soup.select('#wob_tm')[0].getText().strip()\n",
    "    \n",
    "    print(\"Location: \"+ location)\n",
    "    print(\"Time: \"+ time)\n",
    "    print(\"Temperature: \"+ temperature + \"&deg;C\")\n",
    "    print(\"Weather description: \" + info)\n",
    "except :\n",
    "    print(\"Please enter a valid city_name\")\n",
    "\n",
    "city_name = str(input(\"Insert your city name: \"))\n",
    "city_name = city_name + \"Weather\"\n",
    "find_weather(city_name)"
   ]
  },
  {
   "cell_type": "code",
   "execution_count": null,
   "id": "74defddf-3d80-48d6-bafc-479792228c6a",
   "metadata": {},
   "outputs": [],
   "source": []
  }
 ],
 "metadata": {
  "kernelspec": {
   "display_name": "Python 3 (ipykernel)",
   "language": "python",
   "name": "python3"
  },
  "language_info": {
   "codemirror_mode": {
    "name": "ipython",
    "version": 3
   },
   "file_extension": ".py",
   "mimetype": "text/x-python",
   "name": "python",
   "nbconvert_exporter": "python",
   "pygments_lexer": "ipython3",
   "version": "3.11.7"
  }
 },
 "nbformat": 4,
 "nbformat_minor": 5
}
