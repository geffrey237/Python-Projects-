{
 "cells": [
  {
   "cell_type": "code",
   "execution_count": 2,
   "id": "f0d4f65b-b927-44eb-b009-23343a055a39",
   "metadata": {},
   "outputs": [
    {
     "ename": "IndentationError",
     "evalue": "expected an indented block after function definition on line 4 (74225103.py, line 7)",
     "output_type": "error",
     "traceback": [
      "\u001b[1;36m  Cell \u001b[1;32mIn[2], line 7\u001b[1;36m\u001b[0m\n\u001b[1;33m    operation = input('''\u001b[0m\n\u001b[1;37m    ^\u001b[0m\n\u001b[1;31mIndentationError\u001b[0m\u001b[1;31m:\u001b[0m expected an indented block after function definition on line 4\n"
     ]
    }
   ],
   "source": [
    "\" Simple calculator code \"\n",
    "\n",
    "#store the all operation in sign and ask to user to choose one\n",
    "def calculator():\n",
    "    \n",
    "    operation = input('''\n",
    "Choose operation do you want execute: \n",
    "+ for addition \n",
    "- for substratction\n",
    "* for multiplication \n",
    "/ for division \n",
    "''')\n",
    "    \n",
    "#ask user to put a first number\n",
    "number_1 = int(input(\"Enter first number: \"))\n",
    "#ask user to put a second number \n",
    "number_2 = int(input(\"Enter second number: \"))\n",
    "#initialize a addition operation \n",
    "if operation == \"+\":\n",
    "    print (\"{} + {}\".format(number_1, number_2))\n",
    "    print (number_1 + number_2)\n",
    "#initialize a substraction operation\n",
    "elif operation == \"-\":\n",
    "    print (\"{} - {}\".format(number_1, number_2))\n",
    "    print (number_1 - number_2)\n",
    "#initialize a multiplictaion operation\n",
    "elif operation == \"*\":\n",
    "    print (\"{} * {}\".format(number_1, number_2))\n",
    "    print (number_1 * number_2)\n",
    "#initialize a division operation\n",
    "elif operation == \"/\":\n",
    "    print (\"{} / {}\".format(number_1, number_2))\n",
    "    print (number_1 / number_2)\n",
    "else :\n",
    "    print(\"No valid operation, try again\")"
   ]
  },
  {
   "cell_type": "code",
   "execution_count": null,
   "id": "a0b170d9-217d-49e6-838d-7283046470e8",
   "metadata": {},
   "outputs": [],
   "source": []
  }
 ],
 "metadata": {
  "kernelspec": {
   "display_name": "Python 3 (ipykernel)",
   "language": "python",
   "name": "python3"
  },
  "language_info": {
   "codemirror_mode": {
    "name": "ipython",
    "version": 3
   },
   "file_extension": ".py",
   "mimetype": "text/x-python",
   "name": "python",
   "nbconvert_exporter": "python",
   "pygments_lexer": "ipython3",
   "version": "3.11.7"
  }
 },
 "nbformat": 4,
 "nbformat_minor": 5
}
