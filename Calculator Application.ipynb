{
 "cells": [
  {
   "cell_type": "code",
   "execution_count": 5,
   "id": "f0d4f65b-b927-44eb-b009-23343a055a39",
   "metadata": {},
   "outputs": [
    {
     "name": "stdin",
     "output_type": "stream",
     "text": [
      "\n",
      "Choose operation do you want execute: \n",
      "+ for addition \n",
      "- for substratction\n",
      "* for multiplication \n",
      "/ for division \n",
      " +\n",
      "Enter first number:  9\n",
      "Enter second number:  87\n"
     ]
    },
    {
     "name": "stdout",
     "output_type": "stream",
     "text": [
      "9 + 87\n",
      "96\n"
     ]
    }
   ],
   "source": [
    "\" Simple calculator code \"\n",
    "\n",
    "#store the all operation in sign and ask to user to choose one\n",
    "#def calculator():\n",
    "    \n",
    "operation = input('''\n",
    "Choose operation do you want execute: \n",
    "+ for addition \n",
    "- for substratction\n",
    "* for multiplication \n",
    "/ for division \n",
    "''')\n",
    "    \n",
    "#ask user to put a first number\n",
    "number_1 = int(input(\"Enter first number: \"))\n",
    "#ask user to put a second number \n",
    "number_2 = int(input(\"Enter second number: \"))\n",
    "#initialize a addition operation \n",
    "if operation == \"+\":\n",
    "    print (\"{} + {}\".format(number_1, number_2))\n",
    "    print (number_1 + number_2)\n",
    "#initialize a substraction operation\n",
    "elif operation == \"-\":\n",
    "    print (\"{} - {}\".format(number_1, number_2))\n",
    "    print (number_1 - number_2)\n",
    "#initialize a multiplictaion operation\n",
    "elif operation == \"*\":\n",
    "    print (\"{} * {}\".format(number_1, number_2))\n",
    "    print (number_1 * number_2)\n",
    "#initialize a division operation\n",
    "elif operation == \"/\":\n",
    "    print (\"{} / {}\".format(number_1, number_2))\n",
    "    print (number_1 / number_2)\n",
    "else :\n",
    "    print(\"No valid operation, try again\")"
   ]
  },
  {
   "cell_type": "code",
   "execution_count": null,
   "id": "24d5ff2c-831f-4d44-a2e8-74a26e777ebf",
   "metadata": {},
   "outputs": [],
   "source": []
  }
 ],
 "metadata": {
  "kernelspec": {
   "display_name": "Python 3 (ipykernel)",
   "language": "python",
   "name": "python3"
  },
  "language_info": {
   "codemirror_mode": {
    "name": "ipython",
    "version": 3
   },
   "file_extension": ".py",
   "mimetype": "text/x-python",
   "name": "python",
   "nbconvert_exporter": "python",
   "pygments_lexer": "ipython3",
   "version": "3.11.7"
  }
 },
 "nbformat": 4,
 "nbformat_minor": 5
}
